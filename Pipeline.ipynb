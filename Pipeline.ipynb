{
  "nbformat": 4,
  "nbformat_minor": 0,
  "metadata": {
    "colab": {
      "provenance": []
    },
    "kernelspec": {
      "name": "python3",
      "display_name": "Python 3"
    },
    "language_info": {
      "name": "python"
    }
  },
  "cells": [
    {
      "cell_type": "code",
      "execution_count": 2,
      "metadata": {
        "colab": {
          "base_uri": "https://localhost:8080/"
        },
        "id": "_A1nv3imJ-Tw",
        "outputId": "eec27003-9a6a-499e-9ac1-b8c6a1818c55"
      },
      "outputs": [
        {
          "output_type": "stream",
          "name": "stdout",
          "text": [
            "Cloning into 'fjsp_genetic_tabu'...\n",
            "remote: Enumerating objects: 4, done.\u001b[K\n",
            "remote: Counting objects:  25% (1/4)\u001b[K\rremote: Counting objects:  50% (2/4)\u001b[K\rremote: Counting objects:  75% (3/4)\u001b[K\rremote: Counting objects: 100% (4/4)\u001b[K\rremote: Counting objects: 100% (4/4), done.\u001b[K\n",
            "remote: Compressing objects:  25% (1/4)\u001b[K\rremote: Compressing objects:  50% (2/4)\u001b[K\rremote: Compressing objects:  75% (3/4)\u001b[K\rremote: Compressing objects: 100% (4/4)\u001b[K\rremote: Compressing objects: 100% (4/4), done.\u001b[K\n",
            "remote: Total 4 (delta 0), reused 0 (delta 0), pack-reused 0\u001b[K\n",
            "Receiving objects:  25% (1/4)\rReceiving objects:  50% (2/4)\rReceiving objects:  75% (3/4)\rReceiving objects: 100% (4/4)\rReceiving objects: 100% (4/4), done.\n"
          ]
        }
      ],
      "source": [
        "!git clone https://github.com/FabioMMaia/fjsp_genetic_tabu.git"
      ]
    },
    {
      "cell_type": "code",
      "source": [
        "# import os\n",
        "# os.path.append(r'/content/fjsp_genetic_tabu/src')"
      ],
      "metadata": {
        "id": "ZahThHmuLetd"
      },
      "execution_count": 5,
      "outputs": []
    },
    {
      "cell_type": "code",
      "source": [
        "import sys\n",
        "sys.path.insert(1, \"/content/fjsp_genetic_tabu/src\")"
      ],
      "metadata": {
        "id": "_rvqZ8RKL1lW"
      },
      "execution_count": 6,
      "outputs": []
    },
    {
      "cell_type": "code",
      "source": [
        "import requests\n",
        "from importlib import reload\n",
        "import pandas as pd\n",
        "import numpy as np"
      ],
      "metadata": {
        "id": "dv2UlBAEMcmg"
      },
      "execution_count": 30,
      "outputs": []
    },
    {
      "cell_type": "code",
      "source": [
        "import read_fjsp_file, dataviz_fjsp\n",
        "reload(read_fjsp_file)\n",
        "reload(dataviz_fjsp)"
      ],
      "metadata": {
        "colab": {
          "base_uri": "https://localhost:8080/"
        },
        "id": "hssV-TSAKEI_",
        "outputId": "98147dd8-b1a5-447e-fb15-f9a016287950"
      },
      "execution_count": 28,
      "outputs": [
        {
          "output_type": "execute_result",
          "data": {
            "text/plain": [
              "<module 'dataviz_fjsp' from '/content/fjsp_genetic_tabu/src/dataviz_fjsp.py'>"
            ]
          },
          "metadata": {},
          "execution_count": 28
        }
      ]
    },
    {
      "cell_type": "code",
      "source": [
        "txt = requests.get(\"https://www.ime.usp.br/~cris/fjs/benchmark/fmj/mfjs10\").text"
      ],
      "metadata": {
        "id": "uzJaERD-MAXs"
      },
      "execution_count": 17,
      "outputs": []
    },
    {
      "cell_type": "code",
      "source": [
        "dt_times, descr = read_fjsp_file.parse_data(txt, return_descr=True)"
      ],
      "metadata": {
        "id": "iw4D3UARMfvG"
      },
      "execution_count": 24,
      "outputs": []
    },
    {
      "cell_type": "code",
      "source": [
        "descr"
      ],
      "metadata": {
        "colab": {
          "base_uri": "https://localhost:8080/"
        },
        "id": "DjzIuVvYOE9P",
        "outputId": "3f2e53ec-fa9c-49f5-bf9d-3a103e9f5d88"
      },
      "execution_count": 27,
      "outputs": [
        {
          "output_type": "execute_result",
          "data": {
            "text/plain": [
              "{'N': 48, 'A': 36, 'K': 8}"
            ]
          },
          "metadata": {},
          "execution_count": 27
        }
      ]
    },
    {
      "cell_type": "code",
      "source": [
        "dt_times.head()"
      ],
      "metadata": {
        "colab": {
          "base_uri": "https://localhost:8080/",
          "height": 206
        },
        "id": "yWcGbBt4M4Jc",
        "outputId": "871ec48d-dff6-4941-d7f7-cc1bc7cdf7f5"
      },
      "execution_count": 25,
      "outputs": [
        {
          "output_type": "execute_result",
          "data": {
            "text/plain": [
              "machine    Job   Ope     M0     M1     M2     M3     M4  M5     M6     M7\n",
              "0        Job-1  O1_1  247.0  223.0  100.0    NaN    NaN NaN    NaN    NaN\n",
              "1        Job-1  O1_2    NaN  130.0    NaN  140.0    NaN NaN  123.0    NaN\n",
              "2        Job-1  O1_3    NaN    NaN    NaN  150.0  160.0 NaN  200.0    NaN\n",
              "3        Job-1  O1_4    NaN    NaN    NaN    NaN    NaN NaN  210.0  145.0\n",
              "4        Job-2  O2_1  214.0    NaN  150.0    NaN    NaN NaN    NaN    NaN"
            ],
            "text/html": [
              "\n",
              "  <div id=\"df-6a943f45-a207-4b47-8e4c-a06af9d29e0f\" class=\"colab-df-container\">\n",
              "    <div>\n",
              "<style scoped>\n",
              "    .dataframe tbody tr th:only-of-type {\n",
              "        vertical-align: middle;\n",
              "    }\n",
              "\n",
              "    .dataframe tbody tr th {\n",
              "        vertical-align: top;\n",
              "    }\n",
              "\n",
              "    .dataframe thead th {\n",
              "        text-align: right;\n",
              "    }\n",
              "</style>\n",
              "<table border=\"1\" class=\"dataframe\">\n",
              "  <thead>\n",
              "    <tr style=\"text-align: right;\">\n",
              "      <th>machine</th>\n",
              "      <th>Job</th>\n",
              "      <th>Ope</th>\n",
              "      <th>M0</th>\n",
              "      <th>M1</th>\n",
              "      <th>M2</th>\n",
              "      <th>M3</th>\n",
              "      <th>M4</th>\n",
              "      <th>M5</th>\n",
              "      <th>M6</th>\n",
              "      <th>M7</th>\n",
              "    </tr>\n",
              "  </thead>\n",
              "  <tbody>\n",
              "    <tr>\n",
              "      <th>0</th>\n",
              "      <td>Job-1</td>\n",
              "      <td>O1_1</td>\n",
              "      <td>247.0</td>\n",
              "      <td>223.0</td>\n",
              "      <td>100.0</td>\n",
              "      <td>NaN</td>\n",
              "      <td>NaN</td>\n",
              "      <td>NaN</td>\n",
              "      <td>NaN</td>\n",
              "      <td>NaN</td>\n",
              "    </tr>\n",
              "    <tr>\n",
              "      <th>1</th>\n",
              "      <td>Job-1</td>\n",
              "      <td>O1_2</td>\n",
              "      <td>NaN</td>\n",
              "      <td>130.0</td>\n",
              "      <td>NaN</td>\n",
              "      <td>140.0</td>\n",
              "      <td>NaN</td>\n",
              "      <td>NaN</td>\n",
              "      <td>123.0</td>\n",
              "      <td>NaN</td>\n",
              "    </tr>\n",
              "    <tr>\n",
              "      <th>2</th>\n",
              "      <td>Job-1</td>\n",
              "      <td>O1_3</td>\n",
              "      <td>NaN</td>\n",
              "      <td>NaN</td>\n",
              "      <td>NaN</td>\n",
              "      <td>150.0</td>\n",
              "      <td>160.0</td>\n",
              "      <td>NaN</td>\n",
              "      <td>200.0</td>\n",
              "      <td>NaN</td>\n",
              "    </tr>\n",
              "    <tr>\n",
              "      <th>3</th>\n",
              "      <td>Job-1</td>\n",
              "      <td>O1_4</td>\n",
              "      <td>NaN</td>\n",
              "      <td>NaN</td>\n",
              "      <td>NaN</td>\n",
              "      <td>NaN</td>\n",
              "      <td>NaN</td>\n",
              "      <td>NaN</td>\n",
              "      <td>210.0</td>\n",
              "      <td>145.0</td>\n",
              "    </tr>\n",
              "    <tr>\n",
              "      <th>4</th>\n",
              "      <td>Job-2</td>\n",
              "      <td>O2_1</td>\n",
              "      <td>214.0</td>\n",
              "      <td>NaN</td>\n",
              "      <td>150.0</td>\n",
              "      <td>NaN</td>\n",
              "      <td>NaN</td>\n",
              "      <td>NaN</td>\n",
              "      <td>NaN</td>\n",
              "      <td>NaN</td>\n",
              "    </tr>\n",
              "  </tbody>\n",
              "</table>\n",
              "</div>\n",
              "    <div class=\"colab-df-buttons\">\n",
              "\n",
              "  <div class=\"colab-df-container\">\n",
              "    <button class=\"colab-df-convert\" onclick=\"convertToInteractive('df-6a943f45-a207-4b47-8e4c-a06af9d29e0f')\"\n",
              "            title=\"Convert this dataframe to an interactive table.\"\n",
              "            style=\"display:none;\">\n",
              "\n",
              "  <svg xmlns=\"http://www.w3.org/2000/svg\" height=\"24px\" viewBox=\"0 -960 960 960\">\n",
              "    <path d=\"M120-120v-720h720v720H120Zm60-500h600v-160H180v160Zm220 220h160v-160H400v160Zm0 220h160v-160H400v160ZM180-400h160v-160H180v160Zm440 0h160v-160H620v160ZM180-180h160v-160H180v160Zm440 0h160v-160H620v160Z\"/>\n",
              "  </svg>\n",
              "    </button>\n",
              "\n",
              "  <style>\n",
              "    .colab-df-container {\n",
              "      display:flex;\n",
              "      gap: 12px;\n",
              "    }\n",
              "\n",
              "    .colab-df-convert {\n",
              "      background-color: #E8F0FE;\n",
              "      border: none;\n",
              "      border-radius: 50%;\n",
              "      cursor: pointer;\n",
              "      display: none;\n",
              "      fill: #1967D2;\n",
              "      height: 32px;\n",
              "      padding: 0 0 0 0;\n",
              "      width: 32px;\n",
              "    }\n",
              "\n",
              "    .colab-df-convert:hover {\n",
              "      background-color: #E2EBFA;\n",
              "      box-shadow: 0px 1px 2px rgba(60, 64, 67, 0.3), 0px 1px 3px 1px rgba(60, 64, 67, 0.15);\n",
              "      fill: #174EA6;\n",
              "    }\n",
              "\n",
              "    .colab-df-buttons div {\n",
              "      margin-bottom: 4px;\n",
              "    }\n",
              "\n",
              "    [theme=dark] .colab-df-convert {\n",
              "      background-color: #3B4455;\n",
              "      fill: #D2E3FC;\n",
              "    }\n",
              "\n",
              "    [theme=dark] .colab-df-convert:hover {\n",
              "      background-color: #434B5C;\n",
              "      box-shadow: 0px 1px 3px 1px rgba(0, 0, 0, 0.15);\n",
              "      filter: drop-shadow(0px 1px 2px rgba(0, 0, 0, 0.3));\n",
              "      fill: #FFFFFF;\n",
              "    }\n",
              "  </style>\n",
              "\n",
              "    <script>\n",
              "      const buttonEl =\n",
              "        document.querySelector('#df-6a943f45-a207-4b47-8e4c-a06af9d29e0f button.colab-df-convert');\n",
              "      buttonEl.style.display =\n",
              "        google.colab.kernel.accessAllowed ? 'block' : 'none';\n",
              "\n",
              "      async function convertToInteractive(key) {\n",
              "        const element = document.querySelector('#df-6a943f45-a207-4b47-8e4c-a06af9d29e0f');\n",
              "        const dataTable =\n",
              "          await google.colab.kernel.invokeFunction('convertToInteractive',\n",
              "                                                    [key], {});\n",
              "        if (!dataTable) return;\n",
              "\n",
              "        const docLinkHtml = 'Like what you see? Visit the ' +\n",
              "          '<a target=\"_blank\" href=https://colab.research.google.com/notebooks/data_table.ipynb>data table notebook</a>'\n",
              "          + ' to learn more about interactive tables.';\n",
              "        element.innerHTML = '';\n",
              "        dataTable['output_type'] = 'display_data';\n",
              "        await google.colab.output.renderOutput(dataTable, element);\n",
              "        const docLink = document.createElement('div');\n",
              "        docLink.innerHTML = docLinkHtml;\n",
              "        element.appendChild(docLink);\n",
              "      }\n",
              "    </script>\n",
              "  </div>\n",
              "\n",
              "\n",
              "<div id=\"df-a65935a3-718f-4ac9-ad5a-db1b4aaf411f\">\n",
              "  <button class=\"colab-df-quickchart\" onclick=\"quickchart('df-a65935a3-718f-4ac9-ad5a-db1b4aaf411f')\"\n",
              "            title=\"Suggest charts.\"\n",
              "            style=\"display:none;\">\n",
              "\n",
              "<svg xmlns=\"http://www.w3.org/2000/svg\" height=\"24px\"viewBox=\"0 0 24 24\"\n",
              "     width=\"24px\">\n",
              "    <g>\n",
              "        <path d=\"M19 3H5c-1.1 0-2 .9-2 2v14c0 1.1.9 2 2 2h14c1.1 0 2-.9 2-2V5c0-1.1-.9-2-2-2zM9 17H7v-7h2v7zm4 0h-2V7h2v10zm4 0h-2v-4h2v4z\"/>\n",
              "    </g>\n",
              "</svg>\n",
              "  </button>\n",
              "\n",
              "<style>\n",
              "  .colab-df-quickchart {\n",
              "      --bg-color: #E8F0FE;\n",
              "      --fill-color: #1967D2;\n",
              "      --hover-bg-color: #E2EBFA;\n",
              "      --hover-fill-color: #174EA6;\n",
              "      --disabled-fill-color: #AAA;\n",
              "      --disabled-bg-color: #DDD;\n",
              "  }\n",
              "\n",
              "  [theme=dark] .colab-df-quickchart {\n",
              "      --bg-color: #3B4455;\n",
              "      --fill-color: #D2E3FC;\n",
              "      --hover-bg-color: #434B5C;\n",
              "      --hover-fill-color: #FFFFFF;\n",
              "      --disabled-bg-color: #3B4455;\n",
              "      --disabled-fill-color: #666;\n",
              "  }\n",
              "\n",
              "  .colab-df-quickchart {\n",
              "    background-color: var(--bg-color);\n",
              "    border: none;\n",
              "    border-radius: 50%;\n",
              "    cursor: pointer;\n",
              "    display: none;\n",
              "    fill: var(--fill-color);\n",
              "    height: 32px;\n",
              "    padding: 0;\n",
              "    width: 32px;\n",
              "  }\n",
              "\n",
              "  .colab-df-quickchart:hover {\n",
              "    background-color: var(--hover-bg-color);\n",
              "    box-shadow: 0 1px 2px rgba(60, 64, 67, 0.3), 0 1px 3px 1px rgba(60, 64, 67, 0.15);\n",
              "    fill: var(--button-hover-fill-color);\n",
              "  }\n",
              "\n",
              "  .colab-df-quickchart-complete:disabled,\n",
              "  .colab-df-quickchart-complete:disabled:hover {\n",
              "    background-color: var(--disabled-bg-color);\n",
              "    fill: var(--disabled-fill-color);\n",
              "    box-shadow: none;\n",
              "  }\n",
              "\n",
              "  .colab-df-spinner {\n",
              "    border: 2px solid var(--fill-color);\n",
              "    border-color: transparent;\n",
              "    border-bottom-color: var(--fill-color);\n",
              "    animation:\n",
              "      spin 1s steps(1) infinite;\n",
              "  }\n",
              "\n",
              "  @keyframes spin {\n",
              "    0% {\n",
              "      border-color: transparent;\n",
              "      border-bottom-color: var(--fill-color);\n",
              "      border-left-color: var(--fill-color);\n",
              "    }\n",
              "    20% {\n",
              "      border-color: transparent;\n",
              "      border-left-color: var(--fill-color);\n",
              "      border-top-color: var(--fill-color);\n",
              "    }\n",
              "    30% {\n",
              "      border-color: transparent;\n",
              "      border-left-color: var(--fill-color);\n",
              "      border-top-color: var(--fill-color);\n",
              "      border-right-color: var(--fill-color);\n",
              "    }\n",
              "    40% {\n",
              "      border-color: transparent;\n",
              "      border-right-color: var(--fill-color);\n",
              "      border-top-color: var(--fill-color);\n",
              "    }\n",
              "    60% {\n",
              "      border-color: transparent;\n",
              "      border-right-color: var(--fill-color);\n",
              "    }\n",
              "    80% {\n",
              "      border-color: transparent;\n",
              "      border-right-color: var(--fill-color);\n",
              "      border-bottom-color: var(--fill-color);\n",
              "    }\n",
              "    90% {\n",
              "      border-color: transparent;\n",
              "      border-bottom-color: var(--fill-color);\n",
              "    }\n",
              "  }\n",
              "</style>\n",
              "\n",
              "  <script>\n",
              "    async function quickchart(key) {\n",
              "      const quickchartButtonEl =\n",
              "        document.querySelector('#' + key + ' button');\n",
              "      quickchartButtonEl.disabled = true;  // To prevent multiple clicks.\n",
              "      quickchartButtonEl.classList.add('colab-df-spinner');\n",
              "      try {\n",
              "        const charts = await google.colab.kernel.invokeFunction(\n",
              "            'suggestCharts', [key], {});\n",
              "      } catch (error) {\n",
              "        console.error('Error during call to suggestCharts:', error);\n",
              "      }\n",
              "      quickchartButtonEl.classList.remove('colab-df-spinner');\n",
              "      quickchartButtonEl.classList.add('colab-df-quickchart-complete');\n",
              "    }\n",
              "    (() => {\n",
              "      let quickchartButtonEl =\n",
              "        document.querySelector('#df-a65935a3-718f-4ac9-ad5a-db1b4aaf411f button');\n",
              "      quickchartButtonEl.style.display =\n",
              "        google.colab.kernel.accessAllowed ? 'block' : 'none';\n",
              "    })();\n",
              "  </script>\n",
              "</div>\n",
              "    </div>\n",
              "  </div>\n"
            ]
          },
          "metadata": {},
          "execution_count": 25
        }
      ]
    },
    {
      "cell_type": "code",
      "source": [
        "def pipeline_FJSP(data_time, OS, MS, verbose=False, plot=False):\n",
        "\n",
        "  assert isinstance(data_time, pd.DataFrame), \"data_time must be a pd.DataFrame containing the columns Job, Ope, Mi, M_i+1 ... corresponding to the time needed to perfome operation\"\n",
        "  assert isinstance(OS, list) and len(OS) == len(data_time['Ope']), 'OS must be de gene must be a list responsible for ordering having the same length as the number of operation'\n",
        "  assert isinstance(MS, list) and len(OS) == len(data_time['Ope']), 'MS must be de gene must be a list responsible for machine assigment having the same length as the number of operation'\n",
        "\n",
        "  # df = pd.DataFrame(data_time)\n",
        "  df = data_time.copy()\n",
        "  df.set_index(['Ope'], inplace=True)\n",
        "  machines = {}\n",
        "  M = 0\n",
        "  new_start = 0\n",
        "\n",
        "  for machine in df.columns[df.columns.str.startswith('M')]:\n",
        "    m = Machine(machine, df[machine])\n",
        "    machines[machine] = m\n",
        "    M+=1\n",
        "\n",
        "  df = pd.DataFrame(data_time)\n",
        "\n",
        "  #Inicializa dataframe\n",
        "  unique_jobs = df['Job'].unique().tolist()\n",
        "  tasks = {i + 1: job for i, job in enumerate(unique_jobs)}\n",
        "  # all_ope = df['Ope'].sort_values().tolist()\n",
        "  all_ope = df['Ope'].tolist() # certificar se Oij esta na ordem correta\n",
        "  executed_Op = []\n",
        "  all_machines = df.columns[df.columns.str.startswith('M')].tolist()\n",
        "  unavailable_times_machines = {key: [] for key in all_machines}\n",
        "  output = pd.DataFrame()\n",
        "\n",
        "  for i in range(0, len(OS)):\n",
        "    row = {}\n",
        "    row['Job'] = tasks[OS[i]]\n",
        "    Oi = str(OS[i])\n",
        "    Oj = str(len([x for x in OS[:i+1] if x in [OS[i]]]))\n",
        "    Op = 'O' + Oi + '_' + Oj\n",
        "    row['Ope'] = Op\n",
        "    executed_Op.append(Op)\n",
        "\n",
        "    if Op.split('_')[-1]!='1':\n",
        "      previous_Op = Op.split('_')[0] + '_' + str(int(Op.split('_')[-1])-1)\n",
        "    else:\n",
        "      previous_Op=None\n",
        "\n",
        "    row['previous_Ope'] = previous_Op\n",
        "    machine =  'M' + str(MS[all_ope.index(Op)])\n",
        "    row['Resource'] = machine\n",
        "    time_ope_M = df.query('Ope==@Op')[machine].iloc[0]\n",
        "\n",
        "\n",
        "    if time_ope_M != time_ope_M:\n",
        "      print('Solução Não Factível')\n",
        "      return None\n",
        "\n",
        "    row['Time_Execution'] = time_ope_M\n",
        "\n",
        "    if previous_Op is None:\n",
        "      machines[machine].assign_operation(Op)\n",
        "\n",
        "    else:\n",
        "      for m in machines.keys():\n",
        "        for Op_ in machines[m].operations.keys():\n",
        "          if previous_Op == Op_:\n",
        "            new_start = machines[m].operations[previous_Op]['End']\n",
        "            machines[machine].assign_operation(Op, new_start)\n",
        "            break\n",
        "\n",
        "    row['Start'] =  machines[machine].operations[Op]['Start']\n",
        "    row['Finish'] =  machines[machine].operations[Op]['End']\n",
        "\n",
        "    output = pd.concat([output,pd.DataFrame(row, index=[0])], axis=0, ignore_index=True)\n",
        "    if verbose:\n",
        "      print(row)\n",
        "      print(machines)\n",
        "      print('------------#--------------')\n",
        "\n",
        "  if plot:\n",
        "    dataviz_fjsp.plot_gantt(output)\n",
        "\n",
        "  makespan = output['Finish'].max()\n",
        "\n",
        "  return output, makespan"
      ],
      "metadata": {
        "id": "zj5pdtLxOCSM"
      },
      "execution_count": 31,
      "outputs": []
    },
    {
      "cell_type": "code",
      "source": [
        "import os\n",
        "os.chdir('/content/fjsp_genetic_tabu')"
      ],
      "metadata": {
        "id": "1px6LUTBPVvv"
      },
      "execution_count": 33,
      "outputs": []
    },
    {
      "cell_type": "code",
      "source": [
        "!git status"
      ],
      "metadata": {
        "colab": {
          "base_uri": "https://localhost:8080/"
        },
        "id": "FA8JniDuPrnq",
        "outputId": "c0015f92-8e22-40ef-c847-17412fbeed26"
      },
      "execution_count": 34,
      "outputs": [
        {
          "output_type": "stream",
          "name": "stdout",
          "text": [
            "On branch main\n",
            "Your branch is up to date with 'origin/main'.\n",
            "\n",
            "Untracked files:\n",
            "  (use \"git add <file>...\" to include in what will be committed)\n",
            "\t\u001b[31msrc/\u001b[m\n",
            "\n",
            "nothing added to commit but untracked files present (use \"git add\" to track)\n"
          ]
        }
      ]
    },
    {
      "cell_type": "code",
      "source": [
        "!git add ."
      ],
      "metadata": {
        "id": "FHtePigCQBzz"
      },
      "execution_count": 35,
      "outputs": []
    },
    {
      "cell_type": "code",
      "source": [
        "!git remote add origin https://<USERNAME>:<Token>@github.com/<USERNAME>/reponame.git\n"
      ],
      "metadata": {
        "colab": {
          "base_uri": "https://localhost:8080/"
        },
        "id": "rMgi0yX-QF8i",
        "outputId": "e0618a28-3a86-4509-cec8-8eb44d179337"
      },
      "execution_count": 39,
      "outputs": [
        {
          "output_type": "stream",
          "name": "stdout",
          "text": [
            "/bin/bash: line 1: USERNAME: No such file or directory\n"
          ]
        }
      ]
    },
    {
      "cell_type": "code",
      "source": [],
      "metadata": {
        "id": "XHQ_SJc9Qdas"
      },
      "execution_count": null,
      "outputs": []
    }
  ]
}